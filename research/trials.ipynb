{
 "cells": [
  {
   "cell_type": "code",
   "execution_count": 4,
   "metadata": {},
   "outputs": [
    {
     "name": "stdout",
     "output_type": "stream",
     "text": [
      "NaN values in X: False\n",
      "Infinite values in X: False\n",
      "NaN values in y: False\n",
      "Infinite values in y: False\n"
     ]
    },
    {
     "name": "stderr",
     "output_type": "stream",
     "text": [
      "C:\\Users\\P52s\\AppData\\Local\\Temp\\ipykernel_13680\\3874343885.py:49: RuntimeWarning: invalid value encountered in subtract\n",
      "  coef_ -= learning_rate * (gradient_coef + l1_penalty + l2_penalty)\n"
     ]
    },
    {
     "name": "stdout",
     "output_type": "stream",
     "text": [
      "Coefficients: [nan nan nan nan nan nan nan nan nan nan nan]\n",
      "Intercept: nan\n"
     ]
    }
   ],
   "source": [
    "import numpy as np\n",
    "import pandas as pd\n",
    "\n",
    "def elastic_net_regression(X, y, alpha=1.0, l1_ratio=0.5, max_iter=1000, tol=1e-4, learning_rate=0.01):\n",
    "    \"\"\"\n",
    "    Effectue une régression ElasticNet sur les données d'entraînement.\n",
    "\n",
    "    Parameters:\n",
    "    - X: ndarray, shape (n_samples, n_features)\n",
    "        Les données d'entraînement.\n",
    "    - y: ndarray, shape (n_samples,)\n",
    "        Les étiquettes d'entraînement.\n",
    "    - alpha: float, optional, default: 1.0\n",
    "        Paramètre de régularisation total (alpha = alpha_1 + alpha_2).\n",
    "    - l1_ratio: float, optional, default: 0.5\n",
    "        Ratio de mélange entre les termes de régularisation L1 et L2.\n",
    "    - max_iter: int, optional, default: 1000\n",
    "        Nombre maximal d'itérations pour la descente de gradient.\n",
    "    - tol: float, optional, default: 1e-4\n",
    "        Tolérance pour la convergence.\n",
    "    - learning_rate: float, optional, default: 0.01\n",
    "        Taux d'apprentissage pour la descente de gradient.\n",
    "\n",
    "    Returns:\n",
    "    - coef_: ndarray, shape (n_features,)\n",
    "        Les coefficients de régression.\n",
    "    - intercept_: float\n",
    "        L'intercept de régression.\n",
    "    \"\"\"\n",
    "\n",
    "    m, n = X.shape\n",
    "    coef_ = np.zeros(n)\n",
    "    intercept_ = 0.0\n",
    "\n",
    "    for _ in range(max_iter):\n",
    "        # Compute predictions\n",
    "        y_pred = np.dot(X, coef_) + intercept_\n",
    "\n",
    "        # Compute gradients\n",
    "        residuals = y_pred - y\n",
    "        gradient_coef = np.dot(X.T, residuals) / (m + 1e-8)\n",
    "        gradient_intercept = np.sum(residuals) / (m + 1e-8)\n",
    "\n",
    "        # Apply L1 and L2 penalties\n",
    "        l1_penalty = alpha * l1_ratio * np.sign(coef_)\n",
    "        l2_penalty = alpha * (1 - l1_ratio) * coef_\n",
    "\n",
    "        # Update coefficients and intercept using gradient descent\n",
    "        coef_ -= learning_rate * (gradient_coef + l1_penalty + l2_penalty)\n",
    "        intercept_ -= learning_rate * gradient_intercept\n",
    "\n",
    "        # Check for convergence\n",
    "        if np.linalg.norm(gradient_coef) < tol:\n",
    "            break\n",
    "\n",
    "    return coef_, intercept_\n",
    "\n",
    "# Exemple d'utilisation\n",
    "df = pd.read_csv('../artifacts/data_transformation/train.csv')\n",
    "\n",
    "# Check for NaN or infinite values in the dataset\n",
    "print(\"NaN values in X:\", np.isnan(df).any().any())\n",
    "print(\"Infinite values in X:\", np.isinf(df).any().any())\n",
    "print(\"NaN values in y:\", np.isnan(df[df.columns[-1]]).any())\n",
    "print(\"Infinite values in y:\", np.isinf(df[df.columns[-1]]).any())\n",
    "\n",
    "# Drop any rows with NaN or infinite values\n",
    "df = df.dropna()\n",
    "df = df[~df.isin([np.nan, np.inf, -np.inf]).any(axis=1)]\n",
    "\n",
    "train_x = df[df.columns[:-1]].values\n",
    "train_y = df[df.columns[-1]].values\n",
    "\n",
    "# Appeler la fonction pour obtenir les coefficients et l'intercept\n",
    "coefficients, intercept = elastic_net_regression(train_x, train_y, alpha=0.1, l1_ratio=0.5)\n",
    "\n",
    "\n",
    "\n",
    "\n",
    "# Afficher les résultats\n",
    "print(\"Coefficients:\", coefficients)\n",
    "print(\"Intercept:\", intercept)\n"
   ]
  },
  {
   "cell_type": "code",
   "execution_count": null,
   "metadata": {},
   "outputs": [],
   "source": []
  }
 ],
 "metadata": {
  "kernelspec": {
   "display_name": "cnn",
   "language": "python",
   "name": "python3"
  },
  "language_info": {
   "codemirror_mode": {
    "name": "ipython",
    "version": 3
   },
   "file_extension": ".py",
   "mimetype": "text/x-python",
   "name": "python",
   "nbconvert_exporter": "python",
   "pygments_lexer": "ipython3",
   "version": "3.8.17"
  }
 },
 "nbformat": 4,
 "nbformat_minor": 2
}
