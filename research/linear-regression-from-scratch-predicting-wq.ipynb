{
 "cells": [
  {
   "cell_type": "markdown",
   "id": "644c38e2",
   "metadata": {
    "papermill": {
     "duration": 0.042018,
     "end_time": "2022-09-07T18:20:15.972571",
     "exception": false,
     "start_time": "2022-09-07T18:20:15.930553",
     "status": "completed"
    },
    "tags": []
   },
   "source": [
    "<div style='color: #5c6465;\n",
    "           background-color: #b0f7fc;\n",
    "           font-size: 200%;\n",
    "           border-radius:15px;\n",
    "           text-align:center;\n",
    "           font-weight:600;\n",
    "           border-style: solid;\n",
    "           border-color: #53ebf8;\n",
    "           font-family: \"Times New Roman\";'>\n",
    "Introduction\n",
    "<a class=\"anchor\" id=\"1\"></a> "
   ]
  },
  {
   "cell_type": "markdown",
   "id": "5e82eef1",
   "metadata": {
    "papermill": {
     "duration": 0.042867,
     "end_time": "2022-09-07T18:20:16.058043",
     "exception": false,
     "start_time": "2022-09-07T18:20:16.015176",
     "status": "completed"
    },
    "tags": []
   },
   "source": [
    "📚 In this notebook, we'll dive into the following topics:\n",
    "1. 📊 Performing straightforward data analysis.\n",
    "2. 🎯 Selecting features that exhibit greater similarity to our target.\n",
    "3. 🖥️ Implementing linear regression from scratch with minibatch gradient descent.\n",
    "4. 📈 Fitting the model and leveraging it for predictions.\n",
    "\n",
    "We'll be working with the \"wine-quality-dataset\" throughout this notebook. Let's embark on this learning journey! 🍇🍷"
   ]
  },
  {
   "cell_type": "markdown",
   "id": "dfdae290",
   "metadata": {
    "papermill": {
     "duration": 0.040191,
     "end_time": "2022-09-07T18:20:16.139791",
     "exception": false,
     "start_time": "2022-09-07T18:20:16.099600",
     "status": "completed"
    },
    "tags": []
   },
   "source": [
    "This notebook is divided into several sections which are:\n",
    "\n",
    "# **Table of Contents**\n",
    "> 1. [Importing Libraries](#2)\n",
    "> 2. [Loading & Analyzing Data](#3)\n",
    "> 3. [Splitting Feature & Target](#4)\n",
    "> 4. [Feature Selection](#5)\n",
    "> 5. [Scaling & Normalizing Data](#6)\n",
    "> 6. [Defining a Data Iterator](#7)\n",
    "> 7. [Defining Model: Linear Regression](#5)\n",
    "> 8. [Initializing Parameters](#6)\n",
    "> 9. [Defining Cost Function](#7)\n",
    "> 10. [Optimization Algorithm](#5)\n",
    "> 11. [Training Loop](#6)\n",
    "> 12. [Evaluating Accuracy](#7)"
   ]
  },
  {
   "cell_type": "markdown",
   "id": "6814137f",
   "metadata": {
    "papermill": {
     "duration": 0.040873,
     "end_time": "2022-09-07T18:20:16.220841",
     "exception": false,
     "start_time": "2022-09-07T18:20:16.179968",
     "status": "completed"
    },
    "tags": []
   },
   "source": [
    "<div style='color: #5c6465;\n",
    "           background-color: #b0f7fc;\n",
    "           font-size: 200%;\n",
    "           border-radius:15px;\n",
    "           text-align:center;\n",
    "           font-weight:600;\n",
    "           border-style: solid;\n",
    "           border-color: #53ebf8;\n",
    "           font-family: \"Times New Roman\";'>\n",
    "Importing Libraries\n",
    "<a class=\"anchor\" id=\"2\"></a> "
   ]
  },
  {
   "cell_type": "markdown",
   "id": "306c56d3",
   "metadata": {
    "papermill": {
     "duration": 0.04004,
     "end_time": "2022-09-07T18:20:16.301335",
     "exception": false,
     "start_time": "2022-09-07T18:20:16.261295",
     "status": "completed"
    },
    "tags": []
   },
   "source": [
    "We import:-\n",
    "* ***pandas*** for loading and analyzing our data.\n",
    "* ***numpy*** for fitting a model to our data and for making predictions\n",
    "* ***random*** for randomly shuffling our data\n",
    "* ***matplotlib.pyplot*** for data visualization\n",
    "* ***train_test_split*** for splitting our train and test set\n",
    "* ***mutual_info_regression*** for feature selection\n",
    "* ***preprocessing*** for applying normalization"
   ]
  },
  {
   "cell_type": "code",
   "execution_count": 1,
   "id": "f3a10da6",
   "metadata": {
    "execution": {
     "iopub.execute_input": "2022-09-07T18:20:16.390805Z",
     "iopub.status.busy": "2022-09-07T18:20:16.389884Z",
     "iopub.status.idle": "2022-09-07T18:20:17.757928Z",
     "shell.execute_reply": "2022-09-07T18:20:17.757061Z",
     "shell.execute_reply.started": "2022-09-07T18:19:32.059589Z"
    },
    "papermill": {
     "duration": 1.416877,
     "end_time": "2022-09-07T18:20:17.758089",
     "exception": false,
     "start_time": "2022-09-07T18:20:16.341212",
     "status": "completed"
    },
    "tags": []
   },
   "outputs": [],
   "source": [
    "import pandas as pd \n",
    "import numpy as np \n",
    "import random\n",
    "import matplotlib.pyplot as plt\n",
    "import seaborn as sns\n",
    "from sklearn.model_selection import train_test_split\n",
    "from sklearn.feature_selection import mutual_info_regression\n",
    "from sklearn import preprocessing"
   ]
  },
  {
   "cell_type": "markdown",
   "id": "d53c0bec",
   "metadata": {
    "papermill": {
     "duration": 0.039869,
     "end_time": "2022-09-07T18:20:17.840279",
     "exception": false,
     "start_time": "2022-09-07T18:20:17.800410",
     "status": "completed"
    },
    "tags": []
   },
   "source": [
    "<div style='color: #5c6465;\n",
    "           background-color: #b0f7fc;\n",
    "           font-size: 200%;\n",
    "           border-radius:15px;\n",
    "           text-align:center;\n",
    "           font-weight:600;\n",
    "           border-style: solid;\n",
    "           border-color: #53ebf8;\n",
    "           font-family: \"Times New Roman\";'>\n",
    "Loading & Analyzing Data\n",
    "<a class=\"anchor\" id=\"3\"></a> "
   ]
  },
  {
   "cell_type": "markdown",
   "id": "65e5cd8d",
   "metadata": {
    "papermill": {
     "duration": 0.041561,
     "end_time": "2022-09-07T18:20:17.922127",
     "exception": false,
     "start_time": "2022-09-07T18:20:17.880566",
     "status": "completed"
    },
    "tags": []
   },
   "source": [
    "We load the **Wine Quality Dataset** and store it in a pandas dataframe."
   ]
  },
  {
   "cell_type": "code",
   "execution_count": 2,
   "id": "886311ff",
   "metadata": {
    "execution": {
     "iopub.execute_input": "2022-09-07T18:20:18.010886Z",
     "iopub.status.busy": "2022-09-07T18:20:18.010174Z",
     "iopub.status.idle": "2022-09-07T18:20:18.029346Z",
     "shell.execute_reply": "2022-09-07T18:20:18.029959Z",
     "shell.execute_reply.started": "2022-09-07T18:19:32.069051Z"
    },
    "papermill": {
     "duration": 0.063334,
     "end_time": "2022-09-07T18:20:18.030145",
     "exception": false,
     "start_time": "2022-09-07T18:20:17.966811",
     "status": "completed"
    },
    "tags": []
   },
   "outputs": [],
   "source": [
    "df = pd.read_csv(\"../input/wine-quality-dataset/WineQT.csv\")"
   ]
  },
  {
   "cell_type": "markdown",
   "id": "9a4dd2f7",
   "metadata": {
    "papermill": {
     "duration": 0.039725,
     "end_time": "2022-09-07T18:20:18.111254",
     "exception": false,
     "start_time": "2022-09-07T18:20:18.071529",
     "status": "completed"
    },
    "tags": []
   },
   "source": [
    "Next we shall take a peek at our data"
   ]
  },
  {
   "cell_type": "code",
   "execution_count": 3,
   "id": "83649d55",
   "metadata": {
    "execution": {
     "iopub.execute_input": "2022-09-07T18:20:18.200273Z",
     "iopub.status.busy": "2022-09-07T18:20:18.199623Z",
     "iopub.status.idle": "2022-09-07T18:20:18.222440Z",
     "shell.execute_reply": "2022-09-07T18:20:18.222955Z",
     "shell.execute_reply.started": "2022-09-07T18:19:32.095307Z"
    },
    "papermill": {
     "duration": 0.071717,
     "end_time": "2022-09-07T18:20:18.223124",
     "exception": false,
     "start_time": "2022-09-07T18:20:18.151407",
     "status": "completed"
    },
    "tags": []
   },
   "outputs": [
    {
     "data": {
      "text/html": [
       "<div>\n",
       "<style scoped>\n",
       "    .dataframe tbody tr th:only-of-type {\n",
       "        vertical-align: middle;\n",
       "    }\n",
       "\n",
       "    .dataframe tbody tr th {\n",
       "        vertical-align: top;\n",
       "    }\n",
       "\n",
       "    .dataframe thead th {\n",
       "        text-align: right;\n",
       "    }\n",
       "</style>\n",
       "<table border=\"1\" class=\"dataframe\">\n",
       "  <thead>\n",
       "    <tr style=\"text-align: right;\">\n",
       "      <th></th>\n",
       "      <th>fixed acidity</th>\n",
       "      <th>volatile acidity</th>\n",
       "      <th>citric acid</th>\n",
       "      <th>residual sugar</th>\n",
       "      <th>chlorides</th>\n",
       "      <th>free sulfur dioxide</th>\n",
       "      <th>total sulfur dioxide</th>\n",
       "      <th>density</th>\n",
       "      <th>pH</th>\n",
       "      <th>sulphates</th>\n",
       "      <th>alcohol</th>\n",
       "      <th>quality</th>\n",
       "      <th>Id</th>\n",
       "    </tr>\n",
       "  </thead>\n",
       "  <tbody>\n",
       "    <tr>\n",
       "      <th>0</th>\n",
       "      <td>7.4</td>\n",
       "      <td>0.70</td>\n",
       "      <td>0.00</td>\n",
       "      <td>1.9</td>\n",
       "      <td>0.076</td>\n",
       "      <td>11.0</td>\n",
       "      <td>34.0</td>\n",
       "      <td>0.9978</td>\n",
       "      <td>3.51</td>\n",
       "      <td>0.56</td>\n",
       "      <td>9.4</td>\n",
       "      <td>5</td>\n",
       "      <td>0</td>\n",
       "    </tr>\n",
       "    <tr>\n",
       "      <th>1</th>\n",
       "      <td>7.8</td>\n",
       "      <td>0.88</td>\n",
       "      <td>0.00</td>\n",
       "      <td>2.6</td>\n",
       "      <td>0.098</td>\n",
       "      <td>25.0</td>\n",
       "      <td>67.0</td>\n",
       "      <td>0.9968</td>\n",
       "      <td>3.20</td>\n",
       "      <td>0.68</td>\n",
       "      <td>9.8</td>\n",
       "      <td>5</td>\n",
       "      <td>1</td>\n",
       "    </tr>\n",
       "    <tr>\n",
       "      <th>2</th>\n",
       "      <td>7.8</td>\n",
       "      <td>0.76</td>\n",
       "      <td>0.04</td>\n",
       "      <td>2.3</td>\n",
       "      <td>0.092</td>\n",
       "      <td>15.0</td>\n",
       "      <td>54.0</td>\n",
       "      <td>0.9970</td>\n",
       "      <td>3.26</td>\n",
       "      <td>0.65</td>\n",
       "      <td>9.8</td>\n",
       "      <td>5</td>\n",
       "      <td>2</td>\n",
       "    </tr>\n",
       "    <tr>\n",
       "      <th>3</th>\n",
       "      <td>11.2</td>\n",
       "      <td>0.28</td>\n",
       "      <td>0.56</td>\n",
       "      <td>1.9</td>\n",
       "      <td>0.075</td>\n",
       "      <td>17.0</td>\n",
       "      <td>60.0</td>\n",
       "      <td>0.9980</td>\n",
       "      <td>3.16</td>\n",
       "      <td>0.58</td>\n",
       "      <td>9.8</td>\n",
       "      <td>6</td>\n",
       "      <td>3</td>\n",
       "    </tr>\n",
       "    <tr>\n",
       "      <th>4</th>\n",
       "      <td>7.4</td>\n",
       "      <td>0.70</td>\n",
       "      <td>0.00</td>\n",
       "      <td>1.9</td>\n",
       "      <td>0.076</td>\n",
       "      <td>11.0</td>\n",
       "      <td>34.0</td>\n",
       "      <td>0.9978</td>\n",
       "      <td>3.51</td>\n",
       "      <td>0.56</td>\n",
       "      <td>9.4</td>\n",
       "      <td>5</td>\n",
       "      <td>4</td>\n",
       "    </tr>\n",
       "  </tbody>\n",
       "</table>\n",
       "</div>"
      ],
      "text/plain": [
       "   fixed acidity  volatile acidity  citric acid  residual sugar  chlorides  \\\n",
       "0            7.4              0.70         0.00             1.9      0.076   \n",
       "1            7.8              0.88         0.00             2.6      0.098   \n",
       "2            7.8              0.76         0.04             2.3      0.092   \n",
       "3           11.2              0.28         0.56             1.9      0.075   \n",
       "4            7.4              0.70         0.00             1.9      0.076   \n",
       "\n",
       "   free sulfur dioxide  total sulfur dioxide  density    pH  sulphates  \\\n",
       "0                 11.0                  34.0   0.9978  3.51       0.56   \n",
       "1                 25.0                  67.0   0.9968  3.20       0.68   \n",
       "2                 15.0                  54.0   0.9970  3.26       0.65   \n",
       "3                 17.0                  60.0   0.9980  3.16       0.58   \n",
       "4                 11.0                  34.0   0.9978  3.51       0.56   \n",
       "\n",
       "   alcohol  quality  Id  \n",
       "0      9.4        5   0  \n",
       "1      9.8        5   1  \n",
       "2      9.8        5   2  \n",
       "3      9.8        6   3  \n",
       "4      9.4        5   4  "
      ]
     },
     "execution_count": 3,
     "metadata": {},
     "output_type": "execute_result"
    }
   ],
   "source": [
    "df.head()"
   ]
  },
  {
   "cell_type": "markdown",
   "id": "e2f2db1a",
   "metadata": {
    "papermill": {
     "duration": 0.040497,
     "end_time": "2022-09-07T18:20:18.304600",
     "exception": false,
     "start_time": "2022-09-07T18:20:18.264103",
     "status": "completed"
    },
    "tags": []
   },
   "source": [
    "Next we take a look at some certain information(index, data type, column names, non-null values and memory usage) of our dataset using the function **info()**."
   ]
  },
  {
   "cell_type": "code",
   "execution_count": 4,
   "id": "2968f745",
   "metadata": {
    "execution": {
     "iopub.execute_input": "2022-09-07T18:20:18.389663Z",
     "iopub.status.busy": "2022-09-07T18:20:18.389042Z",
     "iopub.status.idle": "2022-09-07T18:20:18.411953Z",
     "shell.execute_reply": "2022-09-07T18:20:18.412457Z",
     "shell.execute_reply.started": "2022-09-07T18:19:32.117442Z"
    },
    "papermill": {
     "duration": 0.067162,
     "end_time": "2022-09-07T18:20:18.412648",
     "exception": false,
     "start_time": "2022-09-07T18:20:18.345486",
     "status": "completed"
    },
    "tags": []
   },
   "outputs": [
    {
     "name": "stdout",
     "output_type": "stream",
     "text": [
      "<class 'pandas.core.frame.DataFrame'>\n",
      "RangeIndex: 1143 entries, 0 to 1142\n",
      "Data columns (total 13 columns):\n",
      " #   Column                Non-Null Count  Dtype  \n",
      "---  ------                --------------  -----  \n",
      " 0   fixed acidity         1143 non-null   float64\n",
      " 1   volatile acidity      1143 non-null   float64\n",
      " 2   citric acid           1143 non-null   float64\n",
      " 3   residual sugar        1143 non-null   float64\n",
      " 4   chlorides             1143 non-null   float64\n",
      " 5   free sulfur dioxide   1143 non-null   float64\n",
      " 6   total sulfur dioxide  1143 non-null   float64\n",
      " 7   density               1143 non-null   float64\n",
      " 8   pH                    1143 non-null   float64\n",
      " 9   sulphates             1143 non-null   float64\n",
      " 10  alcohol               1143 non-null   float64\n",
      " 11  quality               1143 non-null   int64  \n",
      " 12  Id                    1143 non-null   int64  \n",
      "dtypes: float64(11), int64(2)\n",
      "memory usage: 116.2 KB\n"
     ]
    }
   ],
   "source": [
    "df.info()"
   ]
  },
  {
   "cell_type": "markdown",
   "id": "43a468ee",
   "metadata": {
    "papermill": {
     "duration": 0.041024,
     "end_time": "2022-09-07T18:20:18.494565",
     "exception": false,
     "start_time": "2022-09-07T18:20:18.453541",
     "status": "completed"
    },
    "tags": []
   },
   "source": [
    "Next we look at some descriptive statistics of our dataset such as the count, mean, median, standard deviation, the quartiles, maximum and minimum using the function **describe()**."
   ]
  },
  {
   "cell_type": "code",
   "execution_count": 5,
   "id": "104e5ca7",
   "metadata": {
    "execution": {
     "iopub.execute_input": "2022-09-07T18:20:18.584160Z",
     "iopub.status.busy": "2022-09-07T18:20:18.578906Z",
     "iopub.status.idle": "2022-09-07T18:20:18.626850Z",
     "shell.execute_reply": "2022-09-07T18:20:18.627402Z",
     "shell.execute_reply.started": "2022-09-07T18:19:32.141226Z"
    },
    "papermill": {
     "duration": 0.091904,
     "end_time": "2022-09-07T18:20:18.627592",
     "exception": false,
     "start_time": "2022-09-07T18:20:18.535688",
     "status": "completed"
    },
    "tags": []
   },
   "outputs": [
    {
     "data": {
      "text/html": [
       "<div>\n",
       "<style scoped>\n",
       "    .dataframe tbody tr th:only-of-type {\n",
       "        vertical-align: middle;\n",
       "    }\n",
       "\n",
       "    .dataframe tbody tr th {\n",
       "        vertical-align: top;\n",
       "    }\n",
       "\n",
       "    .dataframe thead th {\n",
       "        text-align: right;\n",
       "    }\n",
       "</style>\n",
       "<table border=\"1\" class=\"dataframe\">\n",
       "  <thead>\n",
       "    <tr style=\"text-align: right;\">\n",
       "      <th></th>\n",
       "      <th>fixed acidity</th>\n",
       "      <th>volatile acidity</th>\n",
       "      <th>citric acid</th>\n",
       "      <th>residual sugar</th>\n",
       "      <th>chlorides</th>\n",
       "      <th>free sulfur dioxide</th>\n",
       "      <th>total sulfur dioxide</th>\n",
       "      <th>density</th>\n",
       "      <th>pH</th>\n",
       "      <th>sulphates</th>\n",
       "      <th>alcohol</th>\n",
       "      <th>quality</th>\n",
       "      <th>Id</th>\n",
       "    </tr>\n",
       "  </thead>\n",
       "  <tbody>\n",
       "    <tr>\n",
       "      <th>count</th>\n",
       "      <td>1143.000000</td>\n",
       "      <td>1143.000000</td>\n",
       "      <td>1143.000000</td>\n",
       "      <td>1143.000000</td>\n",
       "      <td>1143.000000</td>\n",
       "      <td>1143.000000</td>\n",
       "      <td>1143.000000</td>\n",
       "      <td>1143.000000</td>\n",
       "      <td>1143.000000</td>\n",
       "      <td>1143.000000</td>\n",
       "      <td>1143.000000</td>\n",
       "      <td>1143.000000</td>\n",
       "      <td>1143.000000</td>\n",
       "    </tr>\n",
       "    <tr>\n",
       "      <th>mean</th>\n",
       "      <td>8.311111</td>\n",
       "      <td>0.531339</td>\n",
       "      <td>0.268364</td>\n",
       "      <td>2.532152</td>\n",
       "      <td>0.086933</td>\n",
       "      <td>15.615486</td>\n",
       "      <td>45.914698</td>\n",
       "      <td>0.996730</td>\n",
       "      <td>3.311015</td>\n",
       "      <td>0.657708</td>\n",
       "      <td>10.442111</td>\n",
       "      <td>5.657043</td>\n",
       "      <td>804.969379</td>\n",
       "    </tr>\n",
       "    <tr>\n",
       "      <th>std</th>\n",
       "      <td>1.747595</td>\n",
       "      <td>0.179633</td>\n",
       "      <td>0.196686</td>\n",
       "      <td>1.355917</td>\n",
       "      <td>0.047267</td>\n",
       "      <td>10.250486</td>\n",
       "      <td>32.782130</td>\n",
       "      <td>0.001925</td>\n",
       "      <td>0.156664</td>\n",
       "      <td>0.170399</td>\n",
       "      <td>1.082196</td>\n",
       "      <td>0.805824</td>\n",
       "      <td>463.997116</td>\n",
       "    </tr>\n",
       "    <tr>\n",
       "      <th>min</th>\n",
       "      <td>4.600000</td>\n",
       "      <td>0.120000</td>\n",
       "      <td>0.000000</td>\n",
       "      <td>0.900000</td>\n",
       "      <td>0.012000</td>\n",
       "      <td>1.000000</td>\n",
       "      <td>6.000000</td>\n",
       "      <td>0.990070</td>\n",
       "      <td>2.740000</td>\n",
       "      <td>0.330000</td>\n",
       "      <td>8.400000</td>\n",
       "      <td>3.000000</td>\n",
       "      <td>0.000000</td>\n",
       "    </tr>\n",
       "    <tr>\n",
       "      <th>25%</th>\n",
       "      <td>7.100000</td>\n",
       "      <td>0.392500</td>\n",
       "      <td>0.090000</td>\n",
       "      <td>1.900000</td>\n",
       "      <td>0.070000</td>\n",
       "      <td>7.000000</td>\n",
       "      <td>21.000000</td>\n",
       "      <td>0.995570</td>\n",
       "      <td>3.205000</td>\n",
       "      <td>0.550000</td>\n",
       "      <td>9.500000</td>\n",
       "      <td>5.000000</td>\n",
       "      <td>411.000000</td>\n",
       "    </tr>\n",
       "    <tr>\n",
       "      <th>50%</th>\n",
       "      <td>7.900000</td>\n",
       "      <td>0.520000</td>\n",
       "      <td>0.250000</td>\n",
       "      <td>2.200000</td>\n",
       "      <td>0.079000</td>\n",
       "      <td>13.000000</td>\n",
       "      <td>37.000000</td>\n",
       "      <td>0.996680</td>\n",
       "      <td>3.310000</td>\n",
       "      <td>0.620000</td>\n",
       "      <td>10.200000</td>\n",
       "      <td>6.000000</td>\n",
       "      <td>794.000000</td>\n",
       "    </tr>\n",
       "    <tr>\n",
       "      <th>75%</th>\n",
       "      <td>9.100000</td>\n",
       "      <td>0.640000</td>\n",
       "      <td>0.420000</td>\n",
       "      <td>2.600000</td>\n",
       "      <td>0.090000</td>\n",
       "      <td>21.000000</td>\n",
       "      <td>61.000000</td>\n",
       "      <td>0.997845</td>\n",
       "      <td>3.400000</td>\n",
       "      <td>0.730000</td>\n",
       "      <td>11.100000</td>\n",
       "      <td>6.000000</td>\n",
       "      <td>1209.500000</td>\n",
       "    </tr>\n",
       "    <tr>\n",
       "      <th>max</th>\n",
       "      <td>15.900000</td>\n",
       "      <td>1.580000</td>\n",
       "      <td>1.000000</td>\n",
       "      <td>15.500000</td>\n",
       "      <td>0.611000</td>\n",
       "      <td>68.000000</td>\n",
       "      <td>289.000000</td>\n",
       "      <td>1.003690</td>\n",
       "      <td>4.010000</td>\n",
       "      <td>2.000000</td>\n",
       "      <td>14.900000</td>\n",
       "      <td>8.000000</td>\n",
       "      <td>1597.000000</td>\n",
       "    </tr>\n",
       "  </tbody>\n",
       "</table>\n",
       "</div>"
      ],
      "text/plain": [
       "       fixed acidity  volatile acidity  citric acid  residual sugar  \\\n",
       "count    1143.000000       1143.000000  1143.000000     1143.000000   \n",
       "mean        8.311111          0.531339     0.268364        2.532152   \n",
       "std         1.747595          0.179633     0.196686        1.355917   \n",
       "min         4.600000          0.120000     0.000000        0.900000   \n",
       "25%         7.100000          0.392500     0.090000        1.900000   \n",
       "50%         7.900000          0.520000     0.250000        2.200000   \n",
       "75%         9.100000          0.640000     0.420000        2.600000   \n",
       "max        15.900000          1.580000     1.000000       15.500000   \n",
       "\n",
       "         chlorides  free sulfur dioxide  total sulfur dioxide      density  \\\n",
       "count  1143.000000          1143.000000           1143.000000  1143.000000   \n",
       "mean      0.086933            15.615486             45.914698     0.996730   \n",
       "std       0.047267            10.250486             32.782130     0.001925   \n",
       "min       0.012000             1.000000              6.000000     0.990070   \n",
       "25%       0.070000             7.000000             21.000000     0.995570   \n",
       "50%       0.079000            13.000000             37.000000     0.996680   \n",
       "75%       0.090000            21.000000             61.000000     0.997845   \n",
       "max       0.611000            68.000000            289.000000     1.003690   \n",
       "\n",
       "                pH    sulphates      alcohol      quality           Id  \n",
       "count  1143.000000  1143.000000  1143.000000  1143.000000  1143.000000  \n",
       "mean      3.311015     0.657708    10.442111     5.657043   804.969379  \n",
       "std       0.156664     0.170399     1.082196     0.805824   463.997116  \n",
       "min       2.740000     0.330000     8.400000     3.000000     0.000000  \n",
       "25%       3.205000     0.550000     9.500000     5.000000   411.000000  \n",
       "50%       3.310000     0.620000    10.200000     6.000000   794.000000  \n",
       "75%       3.400000     0.730000    11.100000     6.000000  1209.500000  \n",
       "max       4.010000     2.000000    14.900000     8.000000  1597.000000  "
      ]
     },
     "execution_count": 5,
     "metadata": {},
     "output_type": "execute_result"
    }
   ],
   "source": [
    "df.describe()"
   ]
  },
  {
   "cell_type": "markdown",
   "id": "53b4da2c",
   "metadata": {
    "papermill": {
     "duration": 0.041194,
     "end_time": "2022-09-07T18:20:18.712270",
     "exception": false,
     "start_time": "2022-09-07T18:20:18.671076",
     "status": "completed"
    },
    "tags": []
   },
   "source": [
    "Now we check if there are any missing values or null values in our data for each column respectively."
   ]
  },
  {
   "cell_type": "code",
   "execution_count": 6,
   "id": "62727ace",
   "metadata": {
    "execution": {
     "iopub.execute_input": "2022-09-07T18:20:18.802021Z",
     "iopub.status.busy": "2022-09-07T18:20:18.801307Z",
     "iopub.status.idle": "2022-09-07T18:20:18.808325Z",
     "shell.execute_reply": "2022-09-07T18:20:18.808971Z",
     "shell.execute_reply.started": "2022-09-07T18:19:32.203445Z"
    },
    "papermill": {
     "duration": 0.053854,
     "end_time": "2022-09-07T18:20:18.809147",
     "exception": false,
     "start_time": "2022-09-07T18:20:18.755293",
     "status": "completed"
    },
    "tags": []
   },
   "outputs": [
    {
     "data": {
      "text/plain": [
       "fixed acidity           0\n",
       "volatile acidity        0\n",
       "citric acid             0\n",
       "residual sugar          0\n",
       "chlorides               0\n",
       "free sulfur dioxide     0\n",
       "total sulfur dioxide    0\n",
       "density                 0\n",
       "pH                      0\n",
       "sulphates               0\n",
       "alcohol                 0\n",
       "quality                 0\n",
       "Id                      0\n",
       "dtype: int64"
      ]
     },
     "execution_count": 6,
     "metadata": {},
     "output_type": "execute_result"
    }
   ],
   "source": [
    "df.isnull().sum()"
   ]
  },
  {
   "cell_type": "markdown",
   "id": "85dcc48c",
   "metadata": {
    "papermill": {
     "duration": 0.042407,
     "end_time": "2022-09-07T18:20:18.893704",
     "exception": false,
     "start_time": "2022-09-07T18:20:18.851297",
     "status": "completed"
    },
    "tags": []
   },
   "source": [
    "So there are no missing values in our data"
   ]
  },
  {
   "cell_type": "markdown",
   "id": "ad5952e4",
   "metadata": {
    "papermill": {
     "duration": 0.041668,
     "end_time": "2022-09-07T18:20:18.979039",
     "exception": false,
     "start_time": "2022-09-07T18:20:18.937371",
     "status": "completed"
    },
    "tags": []
   },
   "source": [
    "<div style='color: #5c6465;\n",
    "           background-color: #b0f7fc;\n",
    "           font-size: 200%;\n",
    "           border-radius:15px;\n",
    "           text-align:center;\n",
    "           font-weight:600;\n",
    "           border-style: solid;\n",
    "           border-color: #53ebf8;\n",
    "           font-family: \"Times New Roman\";'>\n",
    "Splitting Feature & Target\n",
    "<a class=\"anchor\" id=\"4\"></a> "
   ]
  },
  {
   "cell_type": "markdown",
   "id": "c5bf79e5",
   "metadata": {
    "papermill": {
     "duration": 0.041732,
     "end_time": "2022-09-07T18:20:19.063950",
     "exception": false,
     "start_time": "2022-09-07T18:20:19.022218",
     "status": "completed"
    },
    "tags": []
   },
   "source": [
    "Since we are to make predictions for the quality of wine, the column ***quality*** is to be considered the ***target*** vector, we denote it by ***y***. We make a feature matrix ***X*** by dropping the ***target*** column from our dataset."
   ]
  },
  {
   "cell_type": "code",
   "execution_count": 7,
   "id": "dd2b9122",
   "metadata": {
    "execution": {
     "iopub.execute_input": "2022-09-07T18:20:19.151455Z",
     "iopub.status.busy": "2022-09-07T18:20:19.150551Z",
     "iopub.status.idle": "2022-09-07T18:20:19.155595Z",
     "shell.execute_reply": "2022-09-07T18:20:19.156107Z",
     "shell.execute_reply.started": "2022-09-07T18:19:32.215705Z"
    },
    "papermill": {
     "duration": 0.050445,
     "end_time": "2022-09-07T18:20:19.156288",
     "exception": false,
     "start_time": "2022-09-07T18:20:19.105843",
     "status": "completed"
    },
    "tags": []
   },
   "outputs": [],
   "source": [
    "y = df[\"quality\"]\n",
    "X = df.loc[:, df.columns!='quality']"
   ]
  },
  {
   "cell_type": "markdown",
   "id": "3f2ee723",
   "metadata": {
    "papermill": {
     "duration": 0.041774,
     "end_time": "2022-09-07T18:20:19.240959",
     "exception": false,
     "start_time": "2022-09-07T18:20:19.199185",
     "status": "completed"
    },
    "tags": []
   },
   "source": [
    "We also don't need the column ***Id*** so we can drop it as well from our feature matrix ***X***."
   ]
  },
  {
   "cell_type": "code",
   "execution_count": 8,
   "id": "26aa0156",
   "metadata": {
    "execution": {
     "iopub.execute_input": "2022-09-07T18:20:19.328117Z",
     "iopub.status.busy": "2022-09-07T18:20:19.327156Z",
     "iopub.status.idle": "2022-09-07T18:20:19.332212Z",
     "shell.execute_reply": "2022-09-07T18:20:19.332833Z",
     "shell.execute_reply.started": "2022-09-07T18:19:32.271626Z"
    },
    "papermill": {
     "duration": 0.050357,
     "end_time": "2022-09-07T18:20:19.333005",
     "exception": false,
     "start_time": "2022-09-07T18:20:19.282648",
     "status": "completed"
    },
    "tags": []
   },
   "outputs": [],
   "source": [
    "X = X.drop(\"Id\", axis = 1)"
   ]
  },
  {
   "cell_type": "markdown",
   "id": "8d375752",
   "metadata": {
    "papermill": {
     "duration": 0.044027,
     "end_time": "2022-09-07T18:20:19.418878",
     "exception": false,
     "start_time": "2022-09-07T18:20:19.374851",
     "status": "completed"
    },
    "tags": []
   },
   "source": [
    "Now let us take a peek into our feature matrix ***X***."
   ]
  },
  {
   "cell_type": "code",
   "execution_count": 9,
   "id": "0c3afccc",
   "metadata": {
    "execution": {
     "iopub.execute_input": "2022-09-07T18:20:19.507030Z",
     "iopub.status.busy": "2022-09-07T18:20:19.506006Z",
     "iopub.status.idle": "2022-09-07T18:20:19.524256Z",
     "shell.execute_reply": "2022-09-07T18:20:19.524846Z",
     "shell.execute_reply.started": "2022-09-07T18:19:32.288687Z"
    },
    "papermill": {
     "duration": 0.063742,
     "end_time": "2022-09-07T18:20:19.525030",
     "exception": false,
     "start_time": "2022-09-07T18:20:19.461288",
     "status": "completed"
    },
    "tags": []
   },
   "outputs": [
    {
     "data": {
      "text/html": [
       "<div>\n",
       "<style scoped>\n",
       "    .dataframe tbody tr th:only-of-type {\n",
       "        vertical-align: middle;\n",
       "    }\n",
       "\n",
       "    .dataframe tbody tr th {\n",
       "        vertical-align: top;\n",
       "    }\n",
       "\n",
       "    .dataframe thead th {\n",
       "        text-align: right;\n",
       "    }\n",
       "</style>\n",
       "<table border=\"1\" class=\"dataframe\">\n",
       "  <thead>\n",
       "    <tr style=\"text-align: right;\">\n",
       "      <th></th>\n",
       "      <th>fixed acidity</th>\n",
       "      <th>volatile acidity</th>\n",
       "      <th>citric acid</th>\n",
       "      <th>residual sugar</th>\n",
       "      <th>chlorides</th>\n",
       "      <th>free sulfur dioxide</th>\n",
       "      <th>total sulfur dioxide</th>\n",
       "      <th>density</th>\n",
       "      <th>pH</th>\n",
       "      <th>sulphates</th>\n",
       "      <th>alcohol</th>\n",
       "    </tr>\n",
       "  </thead>\n",
       "  <tbody>\n",
       "    <tr>\n",
       "      <th>0</th>\n",
       "      <td>7.4</td>\n",
       "      <td>0.70</td>\n",
       "      <td>0.00</td>\n",
       "      <td>1.9</td>\n",
       "      <td>0.076</td>\n",
       "      <td>11.0</td>\n",
       "      <td>34.0</td>\n",
       "      <td>0.9978</td>\n",
       "      <td>3.51</td>\n",
       "      <td>0.56</td>\n",
       "      <td>9.4</td>\n",
       "    </tr>\n",
       "    <tr>\n",
       "      <th>1</th>\n",
       "      <td>7.8</td>\n",
       "      <td>0.88</td>\n",
       "      <td>0.00</td>\n",
       "      <td>2.6</td>\n",
       "      <td>0.098</td>\n",
       "      <td>25.0</td>\n",
       "      <td>67.0</td>\n",
       "      <td>0.9968</td>\n",
       "      <td>3.20</td>\n",
       "      <td>0.68</td>\n",
       "      <td>9.8</td>\n",
       "    </tr>\n",
       "    <tr>\n",
       "      <th>2</th>\n",
       "      <td>7.8</td>\n",
       "      <td>0.76</td>\n",
       "      <td>0.04</td>\n",
       "      <td>2.3</td>\n",
       "      <td>0.092</td>\n",
       "      <td>15.0</td>\n",
       "      <td>54.0</td>\n",
       "      <td>0.9970</td>\n",
       "      <td>3.26</td>\n",
       "      <td>0.65</td>\n",
       "      <td>9.8</td>\n",
       "    </tr>\n",
       "    <tr>\n",
       "      <th>3</th>\n",
       "      <td>11.2</td>\n",
       "      <td>0.28</td>\n",
       "      <td>0.56</td>\n",
       "      <td>1.9</td>\n",
       "      <td>0.075</td>\n",
       "      <td>17.0</td>\n",
       "      <td>60.0</td>\n",
       "      <td>0.9980</td>\n",
       "      <td>3.16</td>\n",
       "      <td>0.58</td>\n",
       "      <td>9.8</td>\n",
       "    </tr>\n",
       "    <tr>\n",
       "      <th>4</th>\n",
       "      <td>7.4</td>\n",
       "      <td>0.70</td>\n",
       "      <td>0.00</td>\n",
       "      <td>1.9</td>\n",
       "      <td>0.076</td>\n",
       "      <td>11.0</td>\n",
       "      <td>34.0</td>\n",
       "      <td>0.9978</td>\n",
       "      <td>3.51</td>\n",
       "      <td>0.56</td>\n",
       "      <td>9.4</td>\n",
       "    </tr>\n",
       "  </tbody>\n",
       "</table>\n",
       "</div>"
      ],
      "text/plain": [
       "   fixed acidity  volatile acidity  citric acid  residual sugar  chlorides  \\\n",
       "0            7.4              0.70         0.00             1.9      0.076   \n",
       "1            7.8              0.88         0.00             2.6      0.098   \n",
       "2            7.8              0.76         0.04             2.3      0.092   \n",
       "3           11.2              0.28         0.56             1.9      0.075   \n",
       "4            7.4              0.70         0.00             1.9      0.076   \n",
       "\n",
       "   free sulfur dioxide  total sulfur dioxide  density    pH  sulphates  \\\n",
       "0                 11.0                  34.0   0.9978  3.51       0.56   \n",
       "1                 25.0                  67.0   0.9968  3.20       0.68   \n",
       "2                 15.0                  54.0   0.9970  3.26       0.65   \n",
       "3                 17.0                  60.0   0.9980  3.16       0.58   \n",
       "4                 11.0                  34.0   0.9978  3.51       0.56   \n",
       "\n",
       "   alcohol  \n",
       "0      9.4  \n",
       "1      9.8  \n",
       "2      9.8  \n",
       "3      9.8  \n",
       "4      9.4  "
      ]
     },
     "execution_count": 9,
     "metadata": {},
     "output_type": "execute_result"
    }
   ],
   "source": [
    "X.head()"
   ]
  },
  {
   "cell_type": "markdown",
   "id": "0653a9e7",
   "metadata": {
    "papermill": {
     "duration": 0.042871,
     "end_time": "2022-09-07T18:20:19.610176",
     "exception": false,
     "start_time": "2022-09-07T18:20:19.567305",
     "status": "completed"
    },
    "tags": []
   },
   "source": [
    "We also take a peek into our target vector ***y***."
   ]
  },
  {
   "cell_type": "code",
   "execution_count": 10,
   "id": "a72d8262",
   "metadata": {
    "execution": {
     "iopub.execute_input": "2022-09-07T18:20:19.698903Z",
     "iopub.status.busy": "2022-09-07T18:20:19.697947Z",
     "iopub.status.idle": "2022-09-07T18:20:19.704328Z",
     "shell.execute_reply": "2022-09-07T18:20:19.705015Z",
     "shell.execute_reply.started": "2022-09-07T18:19:32.316708Z"
    },
    "papermill": {
     "duration": 0.052483,
     "end_time": "2022-09-07T18:20:19.705195",
     "exception": false,
     "start_time": "2022-09-07T18:20:19.652712",
     "status": "completed"
    },
    "tags": []
   },
   "outputs": [
    {
     "data": {
      "text/plain": [
       "0    5\n",
       "1    5\n",
       "2    5\n",
       "3    6\n",
       "4    5\n",
       "Name: quality, dtype: int64"
      ]
     },
     "execution_count": 10,
     "metadata": {},
     "output_type": "execute_result"
    }
   ],
   "source": [
    "y.head()"
   ]
  },
  {
   "cell_type": "markdown",
   "id": "ff82fb30",
   "metadata": {
    "papermill": {
     "duration": 0.042474,
     "end_time": "2022-09-07T18:20:19.791170",
     "exception": false,
     "start_time": "2022-09-07T18:20:19.748696",
     "status": "completed"
    },
    "tags": []
   },
   "source": [
    "We then split our dataset into train and test set where 80% of our data is for model training and 20% is used for making predictions and validating our model."
   ]
  },
  {
   "cell_type": "code",
   "execution_count": 11,
   "id": "c2824c56",
   "metadata": {
    "execution": {
     "iopub.execute_input": "2022-09-07T18:20:19.883623Z",
     "iopub.status.busy": "2022-09-07T18:20:19.882913Z",
     "iopub.status.idle": "2022-09-07T18:20:19.887180Z",
     "shell.execute_reply": "2022-09-07T18:20:19.887698Z",
     "shell.execute_reply.started": "2022-09-07T18:19:32.329305Z"
    },
    "papermill": {
     "duration": 0.054037,
     "end_time": "2022-09-07T18:20:19.887871",
     "exception": false,
     "start_time": "2022-09-07T18:20:19.833834",
     "status": "completed"
    },
    "tags": []
   },
   "outputs": [],
   "source": [
    "X_train, X_test, y_train, y_test = train_test_split(X, y, test_size=0.2, random_state=42)"
   ]
  },
  {
   "cell_type": "markdown",
   "id": "32e15bfd",
   "metadata": {
    "papermill": {
     "duration": 0.043683,
     "end_time": "2022-09-07T18:20:19.974286",
     "exception": false,
     "start_time": "2022-09-07T18:20:19.930603",
     "status": "completed"
    },
    "tags": []
   },
   "source": [
    "<div style='color: #5c6465;\n",
    "           background-color: #b0f7fc;\n",
    "           font-size: 200%;\n",
    "           border-radius:15px;\n",
    "           text-align:center;\n",
    "           font-weight:600;\n",
    "           border-style: solid;\n",
    "           border-color: #53ebf8;\n",
    "           font-family: \"Times New Roman\";'>\n",
    "Feature Selection\n",
    "<a class=\"anchor\" id=\"5\"></a> "
   ]
  },
  {
   "cell_type": "markdown",
   "id": "6607791c",
   "metadata": {
    "papermill": {
     "duration": 0.044121,
     "end_time": "2022-09-07T18:20:20.063630",
     "exception": false,
     "start_time": "2022-09-07T18:20:20.019509",
     "status": "completed"
    },
    "tags": []
   },
   "source": [
    "We calculate the ***Mutual information*** scores of our features with respect to the target. Mutual information measures the similarity between each of the features and the target variable."
   ]
  },
  {
   "cell_type": "code",
   "execution_count": 12,
   "id": "9c77d281",
   "metadata": {
    "execution": {
     "iopub.execute_input": "2022-09-07T18:20:20.156965Z",
     "iopub.status.busy": "2022-09-07T18:20:20.152370Z",
     "iopub.status.idle": "2022-09-07T18:20:20.308582Z",
     "shell.execute_reply": "2022-09-07T18:20:20.308013Z",
     "shell.execute_reply.started": "2022-09-07T18:19:32.370703Z"
    },
    "papermill": {
     "duration": 0.201988,
     "end_time": "2022-09-07T18:20:20.308745",
     "exception": false,
     "start_time": "2022-09-07T18:20:20.106757",
     "status": "completed"
    },
    "tags": []
   },
   "outputs": [],
   "source": [
    "def make_mi_scores(X, y):\n",
    "    mi_scores = mutual_info_regression(X, y, discrete_features=False)\n",
    "    mi_scores = pd.Series(mi_scores, name=\"MI Scores\", index=X.columns)\n",
    "    mi_scores = mi_scores.sort_values(ascending=False)\n",
    "    return mi_scores\n",
    "\n",
    "mi_scores = make_mi_scores(X_train, y_train)"
   ]
  },
  {
   "cell_type": "code",
   "execution_count": 13,
   "id": "620f07c0",
   "metadata": {
    "execution": {
     "iopub.execute_input": "2022-09-07T18:20:20.403338Z",
     "iopub.status.busy": "2022-09-07T18:20:20.402286Z",
     "iopub.status.idle": "2022-09-07T18:20:20.733787Z",
     "shell.execute_reply": "2022-09-07T18:20:20.733244Z",
     "shell.execute_reply.started": "2022-09-07T18:19:32.572770Z"
    },
    "papermill": {
     "duration": 0.382412,
     "end_time": "2022-09-07T18:20:20.733935",
     "exception": false,
     "start_time": "2022-09-07T18:20:20.351523",
     "status": "completed"
    },
    "tags": []
   },
   "outputs": [
    {
     "data": {
      "image/png": "[encoded data removed]",
      "text/plain": [
       "<Figure size 800x500 with 1 Axes>"
      ]
     },
     "metadata": {
      "needs_background": "light"
     },
     "output_type": "display_data"
    }
   ],
   "source": [
    "def plot_utility_scores(scores):\n",
    "    y = scores.sort_values(ascending=True)\n",
    "    width = np.arange(len(y))\n",
    "    ticks = list(y.index)\n",
    "    plt.barh(width, y)\n",
    "    plt.yticks(width, ticks)\n",
    "    plt.title(\"Mutual Information Scores\")\n",
    "\n",
    "\n",
    "plt.figure(dpi=100, figsize=(8, 5))\n",
    "plt.xlabel(\"Score\")\n",
    "plt.ylabel(\"Feature\")\n",
    "plot_utility_scores(mi_scores)\n",
    "\n"
   ]
  },
  {
   "cell_type": "markdown",
   "id": "67c071cc",
   "metadata": {
    "papermill": {
     "duration": 0.043818,
     "end_time": "2022-09-07T18:20:20.822737",
     "exception": false,
     "start_time": "2022-09-07T18:20:20.778919",
     "status": "completed"
    },
    "tags": []
   },
   "source": [
    "We can see from the above plot that alcohol has the highest similarity with wine quality. \n",
    "<br> We will drop the features that have a mutual information score less than 0.04 as these features aren't much similar to our target vector and are less significant in prediction."
   ]
  },
  {
   "cell_type": "code",
   "execution_count": 14,
   "id": "2bb1f3b9",
   "metadata": {
    "execution": {
     "iopub.execute_input": "2022-09-07T18:20:20.916390Z",
     "iopub.status.busy": "2022-09-07T18:20:20.915369Z",
     "iopub.status.idle": "2022-09-07T18:20:20.921416Z",
     "shell.execute_reply": "2022-09-07T18:20:20.921924Z",
     "shell.execute_reply.started": "2022-09-07T18:19:32.884891Z"
    },
    "papermill": {
     "duration": 0.054657,
     "end_time": "2022-09-07T18:20:20.922114",
     "exception": false,
     "start_time": "2022-09-07T18:20:20.867457",
     "status": "completed"
    },
    "tags": []
   },
   "outputs": [],
   "source": [
    "\n",
    "#drop_cols = [\"free sulfur dioxide\",\"residual sugar\",\"pH\",\"fixed acidity\",\"density\"]\n",
    "drop_cols = [\"free sulfur dioxide\",\"residual sugar\",\"pH\",\"volatile acidity\",\"density\",\"total sulfur dioxide\",\"chlorides\"]\n",
    "X_train = X_train.drop(drop_cols,axis=1)\n",
    "X_test = X_test.drop(drop_cols,axis=1)"
   ]
  },
  {
   "cell_type": "markdown",
   "id": "bfe67257",
   "metadata": {
    "papermill": {
     "duration": 0.044979,
     "end_time": "2022-09-07T18:20:21.011300",
     "exception": false,
     "start_time": "2022-09-07T18:20:20.966321",
     "status": "completed"
    },
    "tags": []
   },
   "source": [
    "Now we can see that we have a total of six features remaining."
   ]
  },
  {
   "cell_type": "code",
   "execution_count": 15,
   "id": "fa17f8e3",
   "metadata": {
    "execution": {
     "iopub.execute_input": "2022-09-07T18:20:21.104300Z",
     "iopub.status.busy": "2022-09-07T18:20:21.103386Z",
     "iopub.status.idle": "2022-09-07T18:20:21.109134Z",
     "shell.execute_reply": "2022-09-07T18:20:21.109646Z",
     "shell.execute_reply.started": "2022-09-07T18:19:32.892465Z"
    },
    "papermill": {
     "duration": 0.053459,
     "end_time": "2022-09-07T18:20:21.109814",
     "exception": false,
     "start_time": "2022-09-07T18:20:21.056355",
     "status": "completed"
    },
    "tags": []
   },
   "outputs": [
    {
     "data": {
      "text/plain": [
       "(Index(['fixed acidity', 'citric acid', 'sulphates', 'alcohol'], dtype='object'),\n",
       " Index(['fixed acidity', 'citric acid', 'sulphates', 'alcohol'], dtype='object'))"
      ]
     },
     "execution_count": 15,
     "metadata": {},
     "output_type": "execute_result"
    }
   ],
   "source": [
    "X_train.columns, X_test.columns"
   ]
  },
  {
   "cell_type": "markdown",
   "id": "2cac6c4e",
   "metadata": {
    "papermill": {
     "duration": 0.043603,
     "end_time": "2022-09-07T18:20:21.196971",
     "exception": false,
     "start_time": "2022-09-07T18:20:21.153368",
     "status": "completed"
    },
    "tags": []
   },
   "source": [
    "<div style='color: #5c6465;\n",
    "           background-color: #b0f7fc;\n",
    "           font-size: 200%;\n",
    "           border-radius:15px;\n",
    "           text-align:center;\n",
    "           font-weight:600;\n",
    "           border-style: solid;\n",
    "           border-color: #53ebf8;\n",
    "           font-family: \"Times New Roman\";'>\n",
    "Scaling & Normalizing Data\n",
    "<a class=\"anchor\" id=\"6\"></a> "
   ]
  },
  {
   "cell_type": "markdown",
   "id": "9c0a5ff4",
   "metadata": {
    "papermill": {
     "duration": 0.044594,
     "end_time": "2022-09-07T18:20:21.285686",
     "exception": false,
     "start_time": "2022-09-07T18:20:21.241092",
     "status": "completed"
    },
    "tags": []
   },
   "source": [
    "We use **MinMaxScaler()** for normalizing our data. We fit the scaler to our trainig data and transform it accordingly."
   ]
  },
  {
   "cell_type": "code",
   "execution_count": 16,
   "id": "be496445",
   "metadata": {
    "execution": {
     "iopub.execute_input": "2022-09-07T18:20:21.382556Z",
     "iopub.status.busy": "2022-09-07T18:20:21.381687Z",
     "iopub.status.idle": "2022-09-07T18:20:21.384500Z",
     "shell.execute_reply": "2022-09-07T18:20:21.385029Z",
     "shell.execute_reply.started": "2022-09-07T18:19:32.910732Z"
    },
    "papermill": {
     "duration": 0.055286,
     "end_time": "2022-09-07T18:20:21.385211",
     "exception": false,
     "start_time": "2022-09-07T18:20:21.329925",
     "status": "completed"
    },
    "tags": []
   },
   "outputs": [],
   "source": [
    "min_max_scaler = preprocessing.MinMaxScaler()\n",
    "X_train =  min_max_scaler.fit_transform(X_train)"
   ]
  },
  {
   "cell_type": "markdown",
   "id": "a11a8f8d",
   "metadata": {
    "papermill": {
     "duration": 0.043878,
     "end_time": "2022-09-07T18:20:21.476074",
     "exception": false,
     "start_time": "2022-09-07T18:20:21.432196",
     "status": "completed"
    },
    "tags": []
   },
   "source": [
    "We transoform our test data using the scaler which we fitted to our training data."
   ]
  },
  {
   "cell_type": "code",
   "execution_count": 17,
   "id": "cf2d8521",
   "metadata": {
    "execution": {
     "iopub.execute_input": "2022-09-07T18:20:21.569449Z",
     "iopub.status.busy": "2022-09-07T18:20:21.568797Z",
     "iopub.status.idle": "2022-09-07T18:20:21.573462Z",
     "shell.execute_reply": "2022-09-07T18:20:21.574024Z",
     "shell.execute_reply.started": "2022-09-07T18:19:32.922593Z"
    },
    "papermill": {
     "duration": 0.052605,
     "end_time": "2022-09-07T18:20:21.574207",
     "exception": false,
     "start_time": "2022-09-07T18:20:21.521602",
     "status": "completed"
    },
    "tags": []
   },
   "outputs": [],
   "source": [
    "X_test = min_max_scaler.transform(X_test)"
   ]
  },
  {
   "cell_type": "markdown",
   "id": "71e08b6b",
   "metadata": {
    "papermill": {
     "duration": 0.043886,
     "end_time": "2022-09-07T18:20:21.662542",
     "exception": false,
     "start_time": "2022-09-07T18:20:21.618656",
     "status": "completed"
    },
    "tags": []
   },
   "source": [
    "Now all the values of our train and test features should be in the range 0-1."
   ]
  },
  {
   "cell_type": "code",
   "execution_count": 18,
   "id": "088555c6",
   "metadata": {
    "execution": {
     "iopub.execute_input": "2022-09-07T18:20:21.754625Z",
     "iopub.status.busy": "2022-09-07T18:20:21.753839Z",
     "iopub.status.idle": "2022-09-07T18:20:21.759799Z",
     "shell.execute_reply": "2022-09-07T18:20:21.760319Z",
     "shell.execute_reply.started": "2022-09-07T18:19:32.933810Z"
    },
    "papermill": {
     "duration": 0.05349,
     "end_time": "2022-09-07T18:20:21.760530",
     "exception": false,
     "start_time": "2022-09-07T18:20:21.707040",
     "status": "completed"
    },
    "tags": []
   },
   "outputs": [
    {
     "name": "stdout",
     "output_type": "stream",
     "text": [
      "Training data:\n",
      "[[0.35454545 0.56       0.25149701 0.375     ]\n",
      " [0.48181818 0.56       0.23952096 0.53571429]\n",
      " [0.39090909 0.36       0.21556886 0.60714286]\n",
      " [0.18181818 0.04       0.13772455 0.26785714]\n",
      " [0.27272727 0.25       0.14371257 0.125     ]]\n",
      "Test data:\n",
      "[[0.2        0.04       0.16167665 0.19642857]\n",
      " [0.20909091 0.21       0.23353293 0.14880952]\n",
      " [0.21818182 0.12       0.08982036 0.375     ]\n",
      " [0.29090909 0.68       0.43712575 0.125     ]\n",
      " [0.71818182 0.49       0.24550898 0.625     ]]\n"
     ]
    }
   ],
   "source": [
    "print(f'Training data:\\n{X_train[0:5]}\\nTest data:\\n{X_test[0:5]}')"
   ]
  },
  {
   "cell_type": "markdown",
   "id": "5f61626b",
   "metadata": {
    "papermill": {
     "duration": 0.04466,
     "end_time": "2022-09-07T18:20:21.851622",
     "exception": false,
     "start_time": "2022-09-07T18:20:21.806962",
     "status": "completed"
    },
    "tags": []
   },
   "source": [
    "The **MinMaxScaler()** automatically transforms our data to numpy array. So *X_train* and *X_test* are now numpy arrays. But we have to manually convert *y_train* and *y_test* to numpy arrays."
   ]
  },
  {
   "cell_type": "code",
   "execution_count": 19,
   "id": "e14b0ddd",
   "metadata": {
    "execution": {
     "iopub.execute_input": "2022-09-07T18:20:21.944789Z",
     "iopub.status.busy": "2022-09-07T18:20:21.944039Z",
     "iopub.status.idle": "2022-09-07T18:20:21.948582Z",
     "shell.execute_reply": "2022-09-07T18:20:21.949128Z",
     "shell.execute_reply.started": "2022-09-07T18:19:32.948759Z"
    },
    "papermill": {
     "duration": 0.053286,
     "end_time": "2022-09-07T18:20:21.949313",
     "exception": false,
     "start_time": "2022-09-07T18:20:21.896027",
     "status": "completed"
    },
    "tags": []
   },
   "outputs": [],
   "source": [
    "y_train = y_train.astype('float32').to_numpy().astype(np.float32)\n",
    "y_test = y_test.astype('float32').to_numpy().astype(np.float32)"
   ]
  },
  {
   "cell_type": "markdown",
   "id": "8e202187",
   "metadata": {
    "papermill": {
     "duration": 0.044398,
     "end_time": "2022-09-07T18:20:22.039702",
     "exception": false,
     "start_time": "2022-09-07T18:20:21.995304",
     "status": "completed"
    },
    "tags": []
   },
   "source": [
    "<div style='color: #5c6465;\n",
    "           background-color: #b0f7fc;\n",
    "           font-size: 200%;\n",
    "           border-radius:15px;\n",
    "           text-align:center;\n",
    "           font-weight:600;\n",
    "           border-style: solid;\n",
    "           border-color: #53ebf8;\n",
    "           font-family: \"Times New Roman\";'>\n",
    "Defining a Data Iterator\n",
    "<a class=\"anchor\" id=\"7\"></a> "
   ]
  },
  {
   "cell_type": "markdown",
   "id": "b11d5153",
   "metadata": {
    "papermill": {
     "duration": 0.044624,
     "end_time": "2022-09-07T18:20:22.128659",
     "exception": false,
     "start_time": "2022-09-07T18:20:22.084035",
     "status": "completed"
    },
    "tags": []
   },
   "source": [
    "We define a generator function data_iter() that returns us a minibatch of data. Each minibatch consists of a tuple of features\n",
    "and targets."
   ]
  },
  {
   "cell_type": "code",
   "execution_count": 20,
   "id": "f3960377",
   "metadata": {
    "execution": {
     "iopub.execute_input": "2022-09-07T18:20:22.220955Z",
     "iopub.status.busy": "2022-09-07T18:20:22.220299Z",
     "iopub.status.idle": "2022-09-07T18:20:22.225253Z",
     "shell.execute_reply": "2022-09-07T18:20:22.225850Z",
     "shell.execute_reply.started": "2022-09-07T18:19:32.964690Z"
    },
    "papermill": {
     "duration": 0.052868,
     "end_time": "2022-09-07T18:20:22.226036",
     "exception": false,
     "start_time": "2022-09-07T18:20:22.173168",
     "status": "completed"
    },
    "tags": []
   },
   "outputs": [],
   "source": [
    "def data_iter(batch_size, features, targets):\n",
    "    num_examples = len(features)\n",
    "    indices = list(range(num_examples))\n",
    "    # The examples are read at random, in no particular order\n",
    "    random.shuffle(indices)\n",
    "    for i in range(0, num_examples, batch_size):\n",
    "        batch_indices = np.array(indices[i:min(i+batch_size,num_examples)])\n",
    "        yield features[batch_indices],targets[batch_indices]"
   ]
  },
  {
   "cell_type": "markdown",
   "id": "8b8dd52f",
   "metadata": {
    "papermill": {
     "duration": 0.044993,
     "end_time": "2022-09-07T18:20:22.315715",
     "exception": false,
     "start_time": "2022-09-07T18:20:22.270722",
     "status": "completed"
    },
    "tags": []
   },
   "source": [
    "Let us read and print the first small batch of data examples."
   ]
  },
  {
   "cell_type": "code",
   "execution_count": 21,
   "id": "16e047aa",
   "metadata": {
    "execution": {
     "iopub.execute_input": "2022-09-07T18:20:22.411071Z",
     "iopub.status.busy": "2022-09-07T18:20:22.407405Z",
     "iopub.status.idle": "2022-09-07T18:20:22.416187Z",
     "shell.execute_reply": "2022-09-07T18:20:22.415667Z",
     "shell.execute_reply.started": "2022-09-07T18:19:32.979487Z"
    },
    "papermill": {
     "duration": 0.055991,
     "end_time": "2022-09-07T18:20:22.416325",
     "exception": false,
     "start_time": "2022-09-07T18:20:22.360334",
     "status": "completed"
    },
    "tags": []
   },
   "outputs": [
    {
     "name": "stdout",
     "output_type": "stream",
     "text": [
      "[[0.3        0.36       0.1257485  0.5       ]\n",
      " [0.20909091 0.11       0.19161677 0.53571429]\n",
      " [0.33636364 0.25       0.11976048 0.25      ]\n",
      " [0.3        0.06       0.07784431 0.17857143]\n",
      " [0.39090909 0.45       0.25748503 0.625     ]\n",
      " [0.23636364 0.06       0.1257485  0.19642857]\n",
      " [0.43636364 0.56       0.35329341 0.58928571]\n",
      " [0.14545455 0.06       0.1257485  0.63392857]\n",
      " [0.64545455 0.63       0.21556886 0.44642857]\n",
      " [0.38181818 0.4        0.2754491  0.60714286]] \n",
      " 10 \n",
      " [7. 6. 5. 5. 7. 5. 8. 5. 6. 7.]\n"
     ]
    }
   ],
   "source": [
    "batch_size = 10\n",
    "for X, y in data_iter(batch_size, X_train, y_train):\n",
    "    print(X,'\\n',X.shape[0], '\\n', y)\n",
    "    break"
   ]
  },
  {
   "cell_type": "markdown",
   "id": "92a2f93c",
   "metadata": {
    "papermill": {
     "duration": 0.047006,
     "end_time": "2022-09-07T18:20:22.508525",
     "exception": false,
     "start_time": "2022-09-07T18:20:22.461519",
     "status": "completed"
    },
    "tags": []
   },
   "source": [
    "As we run the iteration, we obtain distinct minibatches successively until the entire dataset has\n",
    "been exhausted."
   ]
  },
  {
   "cell_type": "markdown",
   "id": "71fecd14",
   "metadata": {
    "papermill": {
     "duration": 0.044193,
     "end_time": "2022-09-07T18:20:22.597551",
     "exception": false,
     "start_time": "2022-09-07T18:20:22.553358",
     "status": "completed"
    },
    "tags": []
   },
   "source": [
    "<div style='color: #5c6465;\n",
    "           background-color: #b0f7fc;\n",
    "           font-size: 200%;\n",
    "           border-radius:15px;\n",
    "           text-align:center;\n",
    "           font-weight:600;\n",
    "           border-style: solid;\n",
    "           border-color: #53ebf8;\n",
    "           font-family: \"Times New Roman\";'>\n",
    "Defining Model: Linear Regression\n",
    "<a class=\"anchor\" id=\"8\"></a>"
   ]
  },
  {
   "cell_type": "markdown",
   "id": "360628d8",
   "metadata": {
    "papermill": {
     "duration": 0.044392,
     "end_time": "2022-09-07T18:20:22.686701",
     "exception": false,
     "start_time": "2022-09-07T18:20:22.642309",
     "status": "completed"
    },
    "tags": []
   },
   "source": [
    "Linear regression is a linear approach to modelling the relationship between one dependent variable and one or more independent variables using a straight line.\n",
    "The straight line is represented such: $$y = w*X+b$$\n",
    "\n",
    "where,\n",
    "<br>w = weight\n",
    "<br>b = bias\n",
    "<br>X = feature matrix(independent variables)\n",
    "<br>y = target vector(dependent variable)\n",
    "\n",
    "\n"
   ]
  },
  {
   "cell_type": "code",
   "execution_count": 22,
   "id": "c6f43d3c",
   "metadata": {
    "execution": {
     "iopub.execute_input": "2022-09-07T18:20:22.779435Z",
     "iopub.status.busy": "2022-09-07T18:20:22.778770Z",
     "iopub.status.idle": "2022-09-07T18:20:22.782360Z",
     "shell.execute_reply": "2022-09-07T18:20:22.782975Z",
     "shell.execute_reply.started": "2022-09-07T18:19:33.009442Z"
    },
    "papermill": {
     "duration": 0.051753,
     "end_time": "2022-09-07T18:20:22.783141",
     "exception": false,
     "start_time": "2022-09-07T18:20:22.731388",
     "status": "completed"
    },
    "tags": []
   },
   "outputs": [],
   "source": [
    "def linear_regression(X, w, b): #@save\n",
    "    \"\"\"The linear regression model.\"\"\"\n",
    "    return np.dot(X, w) + b"
   ]
  },
  {
   "cell_type": "markdown",
   "id": "f253b346",
   "metadata": {
    "papermill": {
     "duration": 0.044392,
     "end_time": "2022-09-07T18:20:22.872143",
     "exception": false,
     "start_time": "2022-09-07T18:20:22.827751",
     "status": "completed"
    },
    "tags": []
   },
   "source": [
    "<div style='color: #5c6465;\n",
    "           background-color: #b0f7fc;\n",
    "           font-size: 200%;\n",
    "           border-radius:15px;\n",
    "           text-align:center;\n",
    "           font-weight:600;\n",
    "           border-style: solid;\n",
    "           border-color: #53ebf8;\n",
    "           font-family: \"Times New Roman\";'>\n",
    "Initializing Parameters\n",
    "<a class=\"anchor\" id=\"9\"></a>"
   ]
  },
  {
   "cell_type": "markdown",
   "id": "9aa4c033",
   "metadata": {
    "papermill": {
     "duration": 0.045306,
     "end_time": "2022-09-07T18:20:22.962122",
     "exception": false,
     "start_time": "2022-09-07T18:20:22.916816",
     "status": "completed"
    },
    "tags": []
   },
   "source": [
    "The values for weight parameters are initialized taking values from the normal distribution with a mean of 0 and standard deviation of 0.1.\n",
    "<br> The bias is initialized with 0."
   ]
  },
  {
   "cell_type": "code",
   "execution_count": 23,
   "id": "67db62db",
   "metadata": {
    "execution": {
     "iopub.execute_input": "2022-09-07T18:20:23.058747Z",
     "iopub.status.busy": "2022-09-07T18:20:23.058084Z",
     "iopub.status.idle": "2022-09-07T18:20:23.062560Z",
     "shell.execute_reply": "2022-09-07T18:20:23.063155Z",
     "shell.execute_reply.started": "2022-09-07T18:19:33.019453Z"
    },
    "papermill": {
     "duration": 0.05562,
     "end_time": "2022-09-07T18:20:23.063397",
     "exception": false,
     "start_time": "2022-09-07T18:20:23.007777",
     "status": "completed"
    },
    "tags": []
   },
   "outputs": [],
   "source": [
    "def initialize_params():\n",
    "    w = np.random.normal(0, 0.1, size=(X_train.shape[1], 1)).astype(np.float32)\n",
    "    b = np.zeros(1).astype(np.float32)\n",
    "    return w,b"
   ]
  },
  {
   "cell_type": "markdown",
   "id": "8378e67f",
   "metadata": {
    "papermill": {
     "duration": 0.044811,
     "end_time": "2022-09-07T18:20:23.152992",
     "exception": false,
     "start_time": "2022-09-07T18:20:23.108181",
     "status": "completed"
    },
    "tags": []
   },
   "source": [
    "<div style='color: #5c6465;\n",
    "           background-color: #b0f7fc;\n",
    "           font-size: 200%;\n",
    "           border-radius:15px;\n",
    "           text-align:center;\n",
    "           font-weight:600;\n",
    "           border-style: solid;\n",
    "           border-color: #53ebf8;\n",
    "           font-family: \"Times New Roman\";'>\n",
    "Defining Cost Function\n",
    "<a class=\"anchor\" id=\"10\"></a>"
   ]
  },
  {
   "cell_type": "markdown",
   "id": "1a57d42a",
   "metadata": {
    "papermill": {
     "duration": 0.04417,
     "end_time": "2022-09-07T18:20:23.241810",
     "exception": false,
     "start_time": "2022-09-07T18:20:23.197640",
     "status": "completed"
    },
    "tags": []
   },
   "source": [
    "The cost function is used to calculate the error in our predicted value. We will use the mean squared error as our cost function. The cost function **J** is defined such:\n",
    "$$ J  = {1 \\over 2m} \\sum\\limits_{i=1}^{m} ({\\hat{y}-y^{(i)})}^2  $$\n",
    "where, $$\\hat{y} = w*X^{(i)}+b $$\n",
    "which is linear regression itself."
   ]
  },
  {
   "cell_type": "code",
   "execution_count": 24,
   "id": "e5c7cade",
   "metadata": {
    "execution": {
     "iopub.execute_input": "2022-09-07T18:20:23.334664Z",
     "iopub.status.busy": "2022-09-07T18:20:23.333925Z",
     "iopub.status.idle": "2022-09-07T18:20:23.337109Z",
     "shell.execute_reply": "2022-09-07T18:20:23.337776Z",
     "shell.execute_reply.started": "2022-09-07T18:19:33.034464Z"
    },
    "papermill": {
     "duration": 0.051465,
     "end_time": "2022-09-07T18:20:23.337949",
     "exception": false,
     "start_time": "2022-09-07T18:20:23.286484",
     "status": "completed"
    },
    "tags": []
   },
   "outputs": [],
   "source": [
    "def mean_squared_loss(y_hat, y): #@save\n",
    "    \"\"\"Squared loss.\"\"\"\n",
    "    return ((1/2)*(y_hat - y.reshape(y_hat.shape))**2).mean()"
   ]
  },
  {
   "cell_type": "markdown",
   "id": "c40c2b4f",
   "metadata": {
    "papermill": {
     "duration": 0.044313,
     "end_time": "2022-09-07T18:20:23.427043",
     "exception": false,
     "start_time": "2022-09-07T18:20:23.382730",
     "status": "completed"
    },
    "tags": []
   },
   "source": [
    "<div style='color: #5c6465;\n",
    "           background-color: #b0f7fc;\n",
    "           font-size: 200%;\n",
    "           border-radius:15px;\n",
    "           text-align:center;\n",
    "           font-weight:600;\n",
    "           border-style: solid;\n",
    "           border-color: #53ebf8;\n",
    "           font-family: \"Times New Roman\";'>\n",
    "Optimization Algorithm\n",
    "<a class=\"anchor\" id=\"11\"></a>"
   ]
  },
  {
   "cell_type": "markdown",
   "id": "408d9d51",
   "metadata": {
    "papermill": {
     "duration": 0.046063,
     "end_time": "2022-09-07T18:20:23.517678",
     "exception": false,
     "start_time": "2022-09-07T18:20:23.471615",
     "status": "completed"
    },
    "tags": []
   },
   "source": [
    "Our goal is to minimize the cost as much as possible in order to find the best fit line. For that we need to define an algorithm for minimizing our cost function. Gradient descent is an optimization algorithm used to minimize some function(cost function in our case) by iteratively moving in the direction of steepest descent as defined by the negative of the gradient.  We define a version of gradient descent that takes a minibatch of data samples for optimizing the cost function. This is known as *Minibatch Gradient Descent*.\n",
    "\n",
    "<br> The steps include:\n",
    "1. For a minibatch of data make predictions:\n",
    "$$\\hat{y} = w*X+b $$\n",
    "2. Calculate the error of prediction:\n",
    "$$error = \\hat{y}-y $$\n",
    "3. Calculate the derivative for weight:\n",
    "$${d(J) \\over dw} = {1 \\over |B|} \\sum\\limits_{i=1}^{|B|} X*error $$\n",
    "<br>\n",
    "&ensp;&ensp;&ensp; where |B| = Batch Size (Since we are calculating loss for a minibatch of data).\n",
    "<br>\n",
    "<br>\n",
    "4. Calculate the derivative for bias:\n",
    "$${d(J) \\over db} = {1 \\over |B|} \\sum\\limits_{i=1}^{|B|} error $$\n",
    "<br>\n",
    "&ensp;&ensp;&ensp; where |B| = Batch Size (Since we are calculating loss for a minibatch of data).\n",
    "<br>\n",
    "<br>\n",
    "5. We update the parameters w and b:\n",
    "$$ w = w - lr * {d(J) \\over dw}  $$\n",
    "<br>\n",
    "$$ b = b - lr * {d(J) \\over db}  $$\n",
    "<br>\n",
    "&ensp;&ensp;&ensp; where lr = learning rate.\n",
    "\n",
    "<br>\n",
    "\n",
    "Below we implement the Minibatch Gradient Descent algorithm:"
   ]
  },
  {
   "cell_type": "code",
   "execution_count": 25,
   "id": "2e884433",
   "metadata": {
    "execution": {
     "iopub.execute_input": "2022-09-07T18:20:23.612124Z",
     "iopub.status.busy": "2022-09-07T18:20:23.611460Z",
     "iopub.status.idle": "2022-09-07T18:20:23.617127Z",
     "shell.execute_reply": "2022-09-07T18:20:23.617692Z",
     "shell.execute_reply.started": "2022-09-07T18:19:33.045294Z"
    },
    "papermill": {
     "duration": 0.05446,
     "end_time": "2022-09-07T18:20:23.617870",
     "exception": false,
     "start_time": "2022-09-07T18:20:23.563410",
     "status": "completed"
    },
    "tags": []
   },
   "outputs": [],
   "source": [
    "def mbgd(X, params, batch_size, lr=0.005): #@save\n",
    "    y_hat = linear_regression(X, w, b)\n",
    "    error = (y_hat - y.reshape(y_hat.shape))\n",
    "    w_derivative = (np.dot(X.T,error)).sum()\n",
    "    params[0] = params[0] - ((lr/batch_size)*w_derivative)\n",
    "    params[1] = params[1] - ((lr/batch_size)*error.sum())\n",
    "    return params[0],params[1]"
   ]
  },
  {
   "cell_type": "markdown",
   "id": "3b1552ce",
   "metadata": {
    "papermill": {
     "duration": 0.044636,
     "end_time": "2022-09-07T18:20:23.707498",
     "exception": false,
     "start_time": "2022-09-07T18:20:23.662862",
     "status": "completed"
    },
    "tags": []
   },
   "source": [
    "<div style='color: #5c6465;\n",
    "           background-color: #b0f7fc;\n",
    "           font-size: 200%;\n",
    "           border-radius:15px;\n",
    "           text-align:center;\n",
    "           font-weight:600;\n",
    "           border-style: solid;\n",
    "           border-color: #53ebf8;\n",
    "           font-family: \"Times New Roman\";'>\n",
    "Training Loop\n",
    "<a class=\"anchor\" id=\"12\"></a>"
   ]
  },
  {
   "cell_type": "markdown",
   "id": "be352a55",
   "metadata": {
    "papermill": {
     "duration": 0.045566,
     "end_time": "2022-09-07T18:20:23.797713",
     "exception": false,
     "start_time": "2022-09-07T18:20:23.752147",
     "status": "completed"
    },
    "tags": []
   },
   "source": [
    "We initialize the value for learning rate to 0.01 and set the number of epochs to 20. It means that our training loop will run 10 times. We also set the batch_size to 10.\n"
   ]
  },
  {
   "cell_type": "code",
   "execution_count": 26,
   "id": "573444f2",
   "metadata": {
    "execution": {
     "iopub.execute_input": "2022-09-07T18:20:23.893488Z",
     "iopub.status.busy": "2022-09-07T18:20:23.892790Z",
     "iopub.status.idle": "2022-09-07T18:20:23.896132Z",
     "shell.execute_reply": "2022-09-07T18:20:23.896797Z",
     "shell.execute_reply.started": "2022-09-07T18:19:33.057055Z"
    },
    "papermill": {
     "duration": 0.052515,
     "end_time": "2022-09-07T18:20:23.896967",
     "exception": false,
     "start_time": "2022-09-07T18:20:23.844452",
     "status": "completed"
    },
    "tags": []
   },
   "outputs": [],
   "source": [
    "lr = 0.01\n",
    "num_epochs = 20\n",
    "batch_size = 10"
   ]
  },
  {
   "cell_type": "markdown",
   "id": "f6a3b737",
   "metadata": {
    "papermill": {
     "duration": 0.04506,
     "end_time": "2022-09-07T18:20:23.986918",
     "exception": false,
     "start_time": "2022-09-07T18:20:23.941858",
     "status": "completed"
    },
    "tags": []
   },
   "source": [
    "We follow these steps in our training loop:\n",
    "1. Select a random minibatch of data equal to the given batch_size (in our case 10). This can be done by the data_iter generator we created a while back.\n",
    "2. Update the parameters(weights and bias) using the optimization algorithm *Minibatch Gradient Descent*.\n",
    "3. After the whole dataset has been exhausted once, calculate the cost over the whole training set.\n",
    "4. Continue this process until the max number of epochs has been reached."
   ]
  },
  {
   "cell_type": "code",
   "execution_count": 27,
   "id": "514b3569",
   "metadata": {
    "execution": {
     "iopub.execute_input": "2022-09-07T18:20:24.080605Z",
     "iopub.status.busy": "2022-09-07T18:20:24.079912Z",
     "iopub.status.idle": "2022-09-07T18:20:24.166956Z",
     "shell.execute_reply": "2022-09-07T18:20:24.166364Z",
     "shell.execute_reply.started": "2022-09-07T18:19:33.068485Z"
    },
    "papermill": {
     "duration": 0.135407,
     "end_time": "2022-09-07T18:20:24.167111",
     "exception": false,
     "start_time": "2022-09-07T18:20:24.031704",
     "status": "completed"
    },
    "tags": []
   },
   "outputs": [
    {
     "name": "stdout",
     "output_type": "stream",
     "text": [
      "learning rate = 0.01, epoch = 1, training cost = 0.745215\n",
      "learning rate = 0.01, epoch = 2, training cost = 0.548745\n",
      "learning rate = 0.01, epoch = 3, training cost = 0.511047\n",
      "learning rate = 0.01, epoch = 4, training cost = 0.482544\n",
      "learning rate = 0.01, epoch = 5, training cost = 0.457163\n",
      "learning rate = 0.01, epoch = 6, training cost = 0.435219\n",
      "learning rate = 0.01, epoch = 7, training cost = 0.415722\n",
      "learning rate = 0.01, epoch = 8, training cost = 0.398931\n",
      "learning rate = 0.01, epoch = 9, training cost = 0.383933\n",
      "learning rate = 0.01, epoch = 10, training cost = 0.372843\n",
      "learning rate = 0.01, epoch = 11, training cost = 0.359283\n",
      "learning rate = 0.01, epoch = 12, training cost = 0.349221\n",
      "learning rate = 0.01, epoch = 13, training cost = 0.340565\n",
      "learning rate = 0.01, epoch = 14, training cost = 0.332732\n",
      "learning rate = 0.01, epoch = 15, training cost = 0.325773\n",
      "learning rate = 0.01, epoch = 16, training cost = 0.320062\n",
      "learning rate = 0.01, epoch = 17, training cost = 0.314844\n",
      "learning rate = 0.01, epoch = 18, training cost = 0.309705\n",
      "learning rate = 0.01, epoch = 19, training cost = 0.305776\n",
      "learning rate = 0.01, epoch = 20, training cost = 0.302095\n"
     ]
    }
   ],
   "source": [
    "w,b =  initialize_params()\n",
    "epoch_list = []\n",
    "cost_list = []\n",
    "loss_array = np.empty((0, 2), np.float32)\n",
    "for epoch in range(num_epochs):\n",
    "    for X, y in data_iter(batch_size, X_train, y_train):\n",
    "             w,b = mbgd(X, [w,b], X.shape[0], lr)\n",
    "    train_cost = mean_squared_loss(linear_regression(X_train, w, b), y_train)\n",
    "    epoch_list.append(epoch+1)\n",
    "    cost_list.append(train_cost)\n",
    "    print(f'learning rate = {lr}, epoch = {epoch + 1}, training cost = {float(train_cost):f}')\n"
   ]
  },
  {
   "cell_type": "markdown",
   "id": "030335a2",
   "metadata": {
    "papermill": {
     "duration": 0.044952,
     "end_time": "2022-09-07T18:20:24.257241",
     "exception": false,
     "start_time": "2022-09-07T18:20:24.212289",
     "status": "completed"
    },
    "tags": []
   },
   "source": [
    "We can plot and see how the cost is minimized and converges to a minima."
   ]
  },
  {
   "cell_type": "code",
   "execution_count": 28,
   "id": "09a766ee",
   "metadata": {
    "execution": {
     "iopub.execute_input": "2022-09-07T18:20:24.353605Z",
     "iopub.status.busy": "2022-09-07T18:20:24.352886Z",
     "iopub.status.idle": "2022-09-07T18:20:24.541205Z",
     "shell.execute_reply": "2022-09-07T18:20:24.541676Z",
     "shell.execute_reply.started": "2022-09-07T18:19:33.164395Z"
    },
    "papermill": {
     "duration": 0.239309,
     "end_time": "2022-09-07T18:20:24.541855",
     "exception": false,
     "start_time": "2022-09-07T18:20:24.302546",
     "status": "completed"
    },
    "tags": []
   },
   "outputs": [
    {
     "data": {
      "image/png": "[encoded data removed]",
      "text/plain": [
       "<Figure size 432x288 with 1 Axes>"
      ]
     },
     "metadata": {
      "needs_background": "light"
     },
     "output_type": "display_data"
    }
   ],
   "source": [
    "plt.plot(epoch_list,cost_list)\n",
    "plt.xlabel(\"No. of epochs\")\n",
    "plt.ylabel(\"Training cost\")\n",
    "plt.xlim(0,21)\n",
    "plt.show()"
   ]
  },
  {
   "cell_type": "markdown",
   "id": "be7f2563",
   "metadata": {
    "papermill": {
     "duration": 0.045432,
     "end_time": "2022-09-07T18:20:24.633082",
     "exception": false,
     "start_time": "2022-09-07T18:20:24.587650",
     "status": "completed"
    },
    "tags": []
   },
   "source": [
    "<div style='color: #5c6465;\n",
    "           background-color: #b0f7fc;\n",
    "           font-size: 200%;\n",
    "           border-radius:15px;\n",
    "           text-align:center;\n",
    "           font-weight:600;\n",
    "           border-style: solid;\n",
    "           border-color: #53ebf8;\n",
    "           font-family: \"Times New Roman\";'>\n",
    "Evaluating Accuracy\n",
    "<a class=\"anchor\" id=\"13\"></a>"
   ]
  },
  {
   "cell_type": "markdown",
   "id": "7398823e",
   "metadata": {
    "papermill": {
     "duration": 0.045529,
     "end_time": "2022-09-07T18:20:24.724280",
     "exception": false,
     "start_time": "2022-09-07T18:20:24.678751",
     "status": "completed"
    },
    "tags": []
   },
   "source": [
    "Since we are working with regression, we shall use the mean squared error(MSE) for evaluating our model. We predict the target vector for the given test data(X_test) and calculate the mean squared error between the predicted values(y_test_pred) and the actual target values of the test data(y_test). We also calculate the mean squared error(MSE) for the training data.\n"
   ]
  },
  {
   "cell_type": "code",
   "execution_count": 29,
   "id": "094c270c",
   "metadata": {
    "execution": {
     "iopub.execute_input": "2022-09-07T18:20:24.823947Z",
     "iopub.status.busy": "2022-09-07T18:20:24.823281Z",
     "iopub.status.idle": "2022-09-07T18:20:24.826352Z",
     "shell.execute_reply": "2022-09-07T18:20:24.825830Z",
     "shell.execute_reply.started": "2022-09-07T18:19:33.373754Z"
    },
    "papermill": {
     "duration": 0.056448,
     "end_time": "2022-09-07T18:20:24.826514",
     "exception": false,
     "start_time": "2022-09-07T18:20:24.770066",
     "status": "completed"
    },
    "tags": []
   },
   "outputs": [
    {
     "name": "stdout",
     "output_type": "stream",
     "text": [
      "Test error is 0.24016819865574482\n",
      "Train error is 0.30209472446589636\n"
     ]
    }
   ],
   "source": [
    "y_test_pred = linear_regression(X_test,w,b)\n",
    "y_train_pred = linear_regression(X_train,w,b)\n",
    "test_MSE  = mean_squared_loss(y_test_pred,y_test).mean()\n",
    "train_MSE = mean_squared_loss(y_train_pred,y_train).mean()\n",
    "print(f'Test error is {test_MSE}\\nTrain error is {train_MSE}')"
   ]
  },
  {
   "cell_type": "markdown",
   "id": "eb2f27d2",
   "metadata": {
    "papermill": {
     "duration": 0.045652,
     "end_time": "2022-09-07T18:20:24.918214",
     "exception": false,
     "start_time": "2022-09-07T18:20:24.872562",
     "status": "completed"
    },
    "tags": []
   },
   "source": [
    "With this you're good to go with performing linear regression on data sets!\n",
    "<br>Reviews and edits are always welcome. \n",
    "<br>Let's share and grow :)"
   ]
  }
 ],
 "metadata": {
  "kernelspec": {
   "display_name": "Python 3",
   "language": "python",
   "name": "python3"
  },
  "language_info": {
   "codemirror_mode": {
    "name": "ipython",
    "version": 3
   },
   "file_extension": ".py",
   "mimetype": "text/x-python",
   "name": "python",
   "nbconvert_exporter": "python",
   "pygments_lexer": "ipython3",
   "version": "3.7.12"
  },
  "papermill": {
   "default_parameters": {},
   "duration": 19.713895,
   "end_time": "2022-09-07T18:20:25.674563",
   "environment_variables": {},
   "exception": null,
   "input_path": "__notebook__.ipynb",
   "output_path": "__notebook__.ipynb",
   "parameters": {},
   "start_time": "2022-09-07T18:20:05.960668",
   "version": "2.3.3"
  }
 },
 "nbformat": 4,
 "nbformat_minor": 5
}
