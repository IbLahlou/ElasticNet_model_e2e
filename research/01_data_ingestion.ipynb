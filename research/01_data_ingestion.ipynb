{
 "cells": [
  {
   "cell_type": "code",
   "execution_count": 1,
   "metadata": {},
   "outputs": [],
   "source": [
    "# Importing necessary modules\n",
    "import os\n",
    "import urllib.request as request\n",
    "import zipfile"
   ]
  },
  {
   "cell_type": "code",
   "execution_count": 2,
   "metadata": {},
   "outputs": [
    {
     "data": {
      "text/plain": [
       "'c:\\\\Users\\\\P52s\\\\Documents\\\\01_python_projects\\\\ElasticNet_Model'"
      ]
     },
     "execution_count": 2,
     "metadata": {},
     "output_type": "execute_result"
    }
   ],
   "source": [
    "# Changing the current directory to the parent directory\n",
    "os.chdir(\"../\")\n",
    "\n",
    "# Getting the current working directory and printing it\n",
    "%pwd"
   ]
  },
  {
   "cell_type": "code",
   "execution_count": 3,
   "metadata": {},
   "outputs": [],
   "source": [
    "# Importing constants and utility functions from the WineX package\n",
    "from WineX.constants import *\n",
    "from WineX.utils.common import read_yaml, create_directories\n"
   ]
  },
  {
   "cell_type": "code",
   "execution_count": 4,
   "metadata": {},
   "outputs": [],
   "source": [
    "from dataclasses import dataclass\n",
    "from pathlib import Path\n",
    "\n",
    "# Defining a data class for configuration related to data ingestion\n",
    "@dataclass(frozen=True)\n",
    "class DataIngestionConfig:\n",
    "    root_dir: Path\n",
    "    source_URL: str\n",
    "    local_data_file: Path\n",
    "    unzip_dir: Path"
   ]
  },
  {
   "cell_type": "code",
   "execution_count": 5,
   "metadata": {},
   "outputs": [],
   "source": [
    "# ConfigurationManager class for managing configurations\n",
    "class ConfigurationManager:\n",
    "    def __init__(\n",
    "        self,\n",
    "        config_filepath = CONFIG_FILE_PATH,\n",
    "        params_filepath = PARAMS_FILE_PATH,\n",
    "        schema_filepath = SCHEMA_FILE_PATH):\n",
    "\n",
    "        # Reading configuration, parameters, and schema from YAML files\n",
    "        self.config = read_yaml(config_filepath)\n",
    "        self.params = read_yaml(params_filepath)\n",
    "        self.schema = read_yaml(schema_filepath)\n",
    "\n",
    "        # Creating necessary directories\n",
    "        create_directories([self.config.artifacts_root])\n",
    "\n",
    "    # Method to get the data ingestion configuration\n",
    "    def get_data_ingestion_config(self) -> DataIngestionConfig:\n",
    "        config = self.config.data_ingestion\n",
    "\n",
    "        # Creating necessary directories\n",
    "        create_directories([config.root_dir])\n",
    "\n",
    "        # Creating a DataIngestionConfig object\n",
    "        data_ingestion_config = DataIngestionConfig(\n",
    "            root_dir=config.root_dir,\n",
    "            source_URL=config.source_URL,\n",
    "            local_data_file=config.local_data_file,\n",
    "            unzip_dir=config.unzip_dir \n",
    "        )\n",
    "\n",
    "        return data_ingestion_config"
   ]
  },
  {
   "cell_type": "code",
   "execution_count": 6,
   "metadata": {},
   "outputs": [],
   "source": [
    "# Importing logger and utility function from WineX package\n",
    "from WineX import logger\n",
    "from WineX.utils.common import get_size\n",
    "from google.cloud import storage\n",
    "import requests\n",
    "import os\n"
   ]
  },
  {
   "cell_type": "code",
   "execution_count": 7,
   "metadata": {},
   "outputs": [],
   "source": [
    "# Set your Google Cloud Storage credentials (replace with your actual credentials)\n",
    "os.environ[\"GOOGLE_APPLICATION_CREDENTIALS\"] = \"credentials.json\"\n",
    "\n",
    "# Replace with your Google Cloud Storage bucket and file path\n",
    "bucket_name = \"wine_data_buckets\"\n",
    "file_path = \"winequality-data.zip\"\n",
    "local_file_path = \"artifacts/data_ingestion/winequality-data.zip\""
   ]
  },
  {
   "cell_type": "code",
   "execution_count": 8,
   "metadata": {},
   "outputs": [],
   "source": [
    "# Class for handling data ingestion operations\n",
    "class DataIngestion:\n",
    "    def __init__(self, config: DataIngestionConfig):\n",
    "        self.config = config\n",
    "\n",
    "    # Method to download the data file\n",
    "    def download_file(self):\n",
    "        if not os.path.exists(self.config.local_data_file):\n",
    "            # Downloading the file using urllib\n",
    "            filename, headers = request.urlretrieve(\n",
    "                url=self.config.source_URL,\n",
    "                filename=self.config.local_data_file\n",
    "            )\n",
    "            logger.info(f\"{filename} downloaded! with the following info:\\n{headers}\")\n",
    "        else:\n",
    "            # Logging if the file already exists\n",
    "            logger.info(f\"File already exists of size: {get_size(Path(self.config.local_data_file))}\")\n",
    "\n",
    "    # Method to download using gcp\n",
    "    def download_from_gcs(self, bucket_name, file_path, local_file_path):\n",
    "        client = storage.Client()\n",
    "        bucket = client.bucket(bucket_name)\n",
    "        blob = bucket.blob(file_path)\n",
    "\n",
    "        try:\n",
    "            # Download the file to a local path\n",
    "            blob.download_to_filename(local_file_path)\n",
    "            logger.info(f\"File downloaded from GCS to {local_file_path}\")\n",
    "        except Exception as e:\n",
    "            logger.error(f\"Error downloading file from GCS: {e}\")\n",
    "\n",
    "\n",
    "\n",
    "    # Method to extract the zip file\n",
    "    def extract_zip_file(self):\n",
    "        unzip_path = self.config.unzip_dir\n",
    "        # Creating the unzip directory if it doesn't exist\n",
    "        os.makedirs(unzip_path, exist_ok=True)\n",
    "        with zipfile.ZipFile(self.config.local_data_file, 'r') as zip_ref:\n",
    "            # Extracting the contents of the zip file\n",
    "            zip_ref.extractall(unzip_path)"
   ]
  },
  {
   "cell_type": "code",
   "execution_count": 9,
   "metadata": {},
   "outputs": [
    {
     "name": "stdout",
     "output_type": "stream",
     "text": [
      "[2023-12-09 18:12:32,332: INFO: common] yaml file: config\\config.yaml loaded successfully\n",
      "[2023-12-09 18:12:32,341: INFO: common] yaml file: params.yaml loaded successfully\n",
      "[2023-12-09 18:12:32,362: INFO: common] yaml file: schema.yaml loaded successfully\n",
      "[2023-12-09 18:12:32,381: INFO: common] created directory at: artifacts\n",
      "[2023-12-09 18:12:32,389: INFO: common] created directory at: artifacts/data_ingestion\n"
     ]
    },
    {
     "name": "stdout",
     "output_type": "stream",
     "text": [
      "[2023-12-09 18:12:38,100: INFO: 2498216547] File downloaded from GCS to artifacts/data_ingestion/winequality-data.zip\n"
     ]
    }
   ],
   "source": [
    "# Exception handling for the main process\n",
    "try:\n",
    "    # Creating ConfigurationManager and obtaining data ingestion configuration\n",
    "    config = ConfigurationManager()\n",
    "    data_ingestion_config = config.get_data_ingestion_config()\n",
    "\n",
    "    # Creating DataIngestion object and performing data download and extraction\n",
    "    data_ingestion = DataIngestion(config=data_ingestion_config)\n",
    "        # Download the file from Google Cloud Storage\n",
    "    data_ingestion.download_from_gcs(bucket_name, file_path, local_file_path)\n",
    "    data_ingestion.extract_zip_file()\n",
    "\n",
    "except Exception as e:\n",
    "    # Raising an exception if an error occurs\n",
    "    raise e"
   ]
  },
  {
   "cell_type": "code",
   "execution_count": null,
   "metadata": {},
   "outputs": [],
   "source": []
  }
 ],
 "metadata": {
  "kernelspec": {
   "display_name": "mlproj",
   "language": "python",
   "name": "python3"
  },
  "language_info": {
   "codemirror_mode": {
    "name": "ipython",
    "version": 3
   },
   "file_extension": ".py",
   "mimetype": "text/x-python",
   "name": "python",
   "nbconvert_exporter": "python",
   "pygments_lexer": "ipython3",
   "version": "3.8.17"
  },
  "orig_nbformat": 4
 },
 "nbformat": 4,
 "nbformat_minor": 2
}
